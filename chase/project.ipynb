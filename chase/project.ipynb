{
 "cells": [
  {
   "cell_type": "code",
   "execution_count": 1,
   "metadata": {},
   "outputs": [],
   "source": "import pandas as pd\nimport numpy as np\nimport matplotlib.pyplot as plt\nimport seaborn as sns\n\nfrom sklearn.model_selection import train_test_split"
  },
  {
   "cell_type": "code",
   "execution_count": 25,
   "metadata": {},
   "outputs": [
    {
     "ename": "ModuleNotFoundError",
     "evalue": "No module named 'xgboost'",
     "output_type": "error",
     "traceback": [
      "\u001b[1;31m---------------------------------------------------------------------------\u001b[0m",
      "\u001b[1;31mModuleNotFoundError\u001b[0m                       Traceback (most recent call last)",
      "\u001b[1;32m<ipython-input-25-801edd3223b7>\u001b[0m in \u001b[0;36m<module>\u001b[1;34m\u001b[0m\n\u001b[0;32m      1\u001b[0m \u001b[1;32mfrom\u001b[0m \u001b[0msklearn\u001b[0m\u001b[1;33m.\u001b[0m\u001b[0mensemble\u001b[0m \u001b[1;32mimport\u001b[0m \u001b[0mRandomForestClassifier\u001b[0m\u001b[1;33m,\u001b[0m \u001b[0mGradientBoostingRegressor\u001b[0m\u001b[1;33m\u001b[0m\u001b[0m\n\u001b[1;32m----> 2\u001b[1;33m \u001b[1;32mimport\u001b[0m \u001b[0mxgboost\u001b[0m \u001b[1;32mas\u001b[0m \u001b[0mxgb\u001b[0m\u001b[1;33m\u001b[0m\u001b[0m\n\u001b[0m",
      "\u001b[1;31mModuleNotFoundError\u001b[0m: No module named 'xgboost'"
     ]
    }
   ],
   "source": "from sklearn.ensemble import RandomForestClassifier, GradientBoostingRegressor\nimport xgboost as xgb"
  },
  {
   "cell_type": "code",
   "execution_count": 3,
   "metadata": {},
   "outputs": [],
   "source": "# Some code used from reference below:\n# https://www.kaggle.com/serigne/stacked-regressions-top-4-on-leaderboard\n\ntrain = pd.read_csv('../oneHotTrain.csv')\ntest = pd.read_csv('../oneHotTest.csv')"
  },
  {
   "cell_type": "code",
   "execution_count": 4,
   "metadata": {},
   "outputs": [
    {
     "data": {
      "text/plain": "1460"
     },
     "execution_count": 4,
     "metadata": {},
     "output_type": "execute_result"
    }
   ],
   "source": "len(train)"
  },
  {
   "cell_type": "code",
   "execution_count": 5,
   "metadata": {},
   "outputs": [
    {
     "data": {
      "image/png": "[encoded data removed]",
      "text/plain": "<Figure size 432x288 with 1 Axes>"
     },
     "metadata": {
      "needs_background": "light"
     },
     "output_type": "display_data"
    }
   ],
   "source": "# from reference code\nfig, ax = plt.subplots()\nax.scatter(x = train['GrLivArea'], y = train['SalePrice'])\nplt.ylabel('SalePrice', fontsize=13)\nplt.xlabel('GrLivArea', fontsize=13)\nplt.show()"
  },
  {
   "cell_type": "code",
   "execution_count": 6,
   "metadata": {},
   "outputs": [
    {
     "data": {
      "text/plain": "Index(['ID', 'MSSubClass', 'MSZoning.C..all.', 'MSZoning.FV', 'MSZoning.RH',\n       'MSZoning.RL', 'MSZoning.RM', 'LotFrontage', 'LotArea', 'Street.Grvl',\n       ...\n       'SaleType.New', 'SaleType.Oth', 'SaleType.WD', 'SaleCondition.Abnorml',\n       'SaleCondition.AdjLand', 'SaleCondition.Alloca', 'SaleCondition.Family',\n       'SaleCondition.Normal', 'SaleCondition.Partial', 'SalePrice'],\n      dtype='object', length=301)"
     },
     "execution_count": 6,
     "metadata": {},
     "output_type": "execute_result"
    }
   ],
   "source": "train.columns"
  },
  {
   "cell_type": "markdown",
   "metadata": {},
   "source": "## Attempt 1: Random Forest"
  },
  {
   "cell_type": "code",
   "execution_count": 7,
   "metadata": {},
   "outputs": [],
   "source": "# splitting training data up to test different models\n\ntmpY = train.SalePrice\ntmpX = train.drop(columns=['SalePrice'])\n\nX_train, X_test, y_train, y_test = train_test_split(tmpX, tmpY, test_size=0.25, random_state=0)"
  },
  {
   "cell_type": "code",
   "execution_count": 8,
   "metadata": {
    "scrolled": true
   },
   "outputs": [],
   "source": "# best_score = 0\n# for i in range(10,190,20):\n#     for j in range(5,13,3):\n#         for k in range(2,6):\n#             for l in range(1,4):\n#                 rf = RandomForestClassifier(n_estimators=i, \n#                                             criterion='entropy', \n#                                             max_depth=j, \n#                                             min_samples_split=k, \n#                                             min_samples_leaf=l)\n#                 rf.fit(X_train, y_train)\n\n#                 print('n_estimators=', i, ', max_depth=', j, ', min_samples_split=', k, ', min_samples_leaf=', l)\n#                 score = rf.score(X_test, y_test)\n#                 print(score)\n#                 print()\n\n#                 if score > best_score:\n#                     best_score = score\n\n# print('best: ', best_score)"
  },
  {
   "cell_type": "markdown",
   "metadata": {},
   "source": "I'm taking the four best classifiers and doing an ensemble of them for the submission"
  },
  {
   "cell_type": "code",
   "execution_count": 12,
   "metadata": {},
   "outputs": [],
   "source": "rf_g_0 = RandomForestClassifier(n_estimators=50, \n                            criterion='gini', \n                            max_depth=5, \n                            min_samples_split=4, \n                            min_samples_leaf=2)\n\nrf_g_1 = RandomForestClassifier(n_estimators=170, \n                            criterion='gini', \n                            max_depth=5, \n                            min_samples_split=3, \n                            min_samples_leaf=1)\n\nrf_e_0 = RandomForestClassifier(n_estimators=90, \n                            criterion='entropy', \n                            max_depth=5, \n                            min_samples_split=2, \n                            min_samples_leaf=2)\n\nrf_e_1 = RandomForestClassifier(n_estimators=170, \n                            criterion='entropy', \n                            max_depth=5, \n                            min_samples_split=5, \n                            min_samples_leaf=1)\n\n# testY = test.SalePrice\n# testX = test.drop(columns=['SalePrice'])\n\nrf_g_0.fit(tmpX, tmpY)\nrf_g_1.fit(tmpX, tmpY)\nrf_e_0.fit(tmpX, tmpY)\nrf_e_1.fit(tmpX, tmpY)\n\nprediction = (0.25 * rf_g_0.predict(test)) + (0.25 * rf_g_1.predict(test)) + \\\n             (0.25 * rf_e_0.predict(test)) + (0.25 * rf_e_1.predict(test))"
  },
  {
   "cell_type": "code",
   "execution_count": 14,
   "metadata": {},
   "outputs": [],
   "source": "sub = pd.DataFrame()\nsub['ID'] = test['ID']\nsub['SalePrice'] = prediction\nsub.to_csv('submission.csv',index=False)"
  },
  {
   "cell_type": "markdown",
   "metadata": {},
   "source": "## Result: 0.27306\n### Definitely room for improvement..."
  },
  {
   "cell_type": "markdown",
   "metadata": {},
   "source": "## Attempt 2: GradientBoostingRegressor"
  },
  {
   "cell_type": "code",
   "execution_count": 18,
   "metadata": {},
   "outputs": [],
   "source": "# Referenced code\ngboost = GradientBoostingRegressor(n_estimators=3000, learning_rate=0.05,\n                                   max_depth=4, max_features='sqrt',\n                                   min_samples_leaf=15, min_samples_split=10, \n                                   loss='huber', random_state=0)"
  },
  {
   "cell_type": "code",
   "execution_count": 20,
   "metadata": {},
   "outputs": [],
   "source": "gboost.fit(tmpX, tmpY)\nprediction = gboost.predict(test)"
  },
  {
   "cell_type": "code",
   "execution_count": 22,
   "metadata": {},
   "outputs": [
    {
     "data": {
      "text/plain": "array([128753.21286104, 163308.55034786, 190049.38162399, ...,\n       164295.21465023, 123215.5520683 , 221505.65346626])"
     },
     "execution_count": 22,
     "metadata": {},
     "output_type": "execute_result"
    }
   ],
   "source": "prediction"
  },
  {
   "cell_type": "code",
   "execution_count": 23,
   "metadata": {},
   "outputs": [],
   "source": "sub = pd.DataFrame()\nsub['ID'] = test['ID']\nsub['SalePrice'] = prediction\nsub.to_csv('submission.csv',index=False)"
  },
  {
   "cell_type": "markdown",
   "metadata": {},
   "source": "## Result: 0.12328\n### That's a lot better... now at number 918"
  },
  {
   "cell_type": "markdown",
   "metadata": {},
   "source": "## Attempt 3: XGBoost"
  }
 ],
 "metadata": {
  "kernelspec": {
   "display_name": "Python 3",
   "language": "python",
   "name": "python3"
  },
  "language_info": {
   "codemirror_mode": {
    "name": "ipython",
    "version": 3
   },
   "file_extension": ".py",
   "mimetype": "text/x-python",
   "name": "python",
   "nbconvert_exporter": "python",
   "pygments_lexer": "ipython3",
   "version": "3.7.0"
  }
 },
 "nbformat": 4,
 "nbformat_minor": 4
}
