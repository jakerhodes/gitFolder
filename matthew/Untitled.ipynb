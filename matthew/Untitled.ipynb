{
 "cells": [
  {
   "cell_type": "code",
   "execution_count": 1,
   "metadata": {},
   "outputs": [
    {
     "name": "stderr",
     "output_type": "stream",
     "text": [
      "Using TensorFlow backend.\n"
     ]
    }
   ],
   "source": [
    "import numpy as np\n",
    "import pandas as pd\n",
    "import numpy as np\n",
    "import pandas as pd\n",
    "import keras\n",
    "from keras.models import Sequential\n",
    "from keras.layers import Dense, BatchNormalization\n",
    "from keras.layers import Input, Embedding, Dense\n",
    "from keras.models import Model\n",
    "from keras.callbacks import Callback\n",
    "import matplotlib.pyplot as plt\n",
    "\n",
    "# Bayesian Methods for Hackers style sheet\n",
    "plt.style.use('bmh')\n",
    "np.random.seed(1234567890)"
   ]
  },
  {
   "cell_type": "code",
   "execution_count": 2,
   "metadata": {},
   "outputs": [],
   "source": [
    "class PeriodicLogger(Callback):\n",
    "    \"\"\"\n",
    "    A helper callback class that only prints the losses once in 'display' epochs\n",
    "    \"\"\"\n",
    "\n",
    "    def __init__(self, display=100):\n",
    "        self.display = display\n",
    "\n",
    "\n",
    "def on_train_begin(self, logs={}):\n",
    "    self.epochs = 0\n",
    "\n",
    "\n",
    "def on_epoch_end(self, batch, logs={}):\n",
    "    self.epochs += 1\n",
    "    if self.epochs % self.display == 0:\n",
    "        print (\"Epoch: %d - loss: %f - val_loss: %f\" % (self.epochs, logs['loss'], logs['val_loss']))\n",
    "\n",
    "\n",
    "periodic_logger_250 = PeriodicLogger(250)"
   ]
  },
  {
   "cell_type": "code",
   "execution_count": null,
   "metadata": {},
   "outputs": [],
   "source": []
  }
 ],
 "metadata": {
  "kernelspec": {
   "display_name": "Python 3",
   "language": "python",
   "name": "python3"
  },
  "language_info": {
   "codemirror_mode": {
    "name": "ipython",
    "version": 3
   },
   "file_extension": ".py",
   "mimetype": "text/x-python",
   "name": "python",
   "nbconvert_exporter": "python",
   "pygments_lexer": "ipython3",
   "version": "3.7.7"
  }
 },
 "nbformat": 4,
 "nbformat_minor": 4
}
